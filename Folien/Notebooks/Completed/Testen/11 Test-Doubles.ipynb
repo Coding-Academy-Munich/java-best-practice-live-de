{
 "cells": [
  {
   "cell_type": "markdown",
   "id": "e668904b183b6727",
   "metadata": {
    "lang": "de",
    "slideshow": {
     "slide_type": "slide"
    },
    "tags": [
     "slide"
    ]
   },
   "source": [
    "\n",
    "<img src=\"data:image/svg+xml;base64,PHN2ZyB4bWxucz0iaHR0cDovL3d3dy53My5vcmcvMjAwMC9zdmciIHdpZHRoPSI2NCIgaGVpZ2h0\n",
    "PSI2NCIgdmlld0JveD0iMCAwIDMyIDMyIj48cGF0aCBkPSJNMTEuNjIyIDI0Ljc0cy0xLjIzLjc0\n",
    "OC44NTUuOTYyYzIuNTEuMzIgMy44NDcuMjY3IDYuNjI1LS4yNjdhMTAuMDIgMTAuMDIgMCAwIDAg\n",
    "MS43NjMuODU1Yy02LjI1IDIuNjcyLTE0LjE2LS4xNi05LjI0NC0xLjU1em0tLjgtMy40NzNzLTEu\n",
    "MzM2IDEuMDE1Ljc0OCAxLjIzYzIuNzI1LjI2NyA0Ljg2Mi4zMiA4LjU1LS40MjdhMy4yNiAzLjI2\n",
    "IDAgMCAwIDEuMjgyLjgwMWMtNy41MzQgMi4yNDQtMTUuOTc2LjIxNC0xMC41OC0xLjYwM3ptMTQu\n",
    "NzQ3IDYuMDlzLjkwOC43NDgtMS4wMTUgMS4zMzZjLTMuNTggMS4wNy0xNS4wMTQgMS4zOS0xOC4y\n",
    "MiAwLTEuMTIyLS40OCAxLjAxNS0xLjE3NSAxLjctMS4yODIuNjk1LS4xNiAxLjA3LS4xNiAxLjA3\n",
    "LS4xNi0xLjIzLS44NTUtOC4xNzUgMS43NjMtMy41MjYgMi41MSAxMi43NyAyLjA4NCAyMy4yOTYt\n",
    "LjkwOCAxOS45ODMtMi40MDR6TTEyLjIgMTcuNjMzcy01LjgyNCAxLjM5LTIuMDg0IDEuODdjMS42\n",
    "MDMuMjE0IDQuNzU1LjE2IDcuNjk0LS4wNTMgMi40MDQtLjIxNCA0LjgxLS42NCA0LjgxLS42NHMt\n",
    "Ljg1NS4zNzQtMS40NDMuNzQ4Yy01LjkzIDEuNTUtMTcuMzEyLjg1NS0xNC4wNTItLjc0OCAyLjc3\n",
    "OC0xLjMzNiA1LjA3Ni0xLjE3NSA1LjA3Ni0xLjE3NXptMTAuNDIgNS44MjRjNS45ODQtMy4xIDMu\n",
    "MjA2LTYuMDkgMS4yODItNS43MTctLjQ4LjEwNy0uNjk1LjIxNC0uNjk1LjIxNHMuMTYtLjMyLjUz\n",
    "NC0uNDI3YzMuNzk0LTEuMzM2IDYuNzg2IDQuMDA3LTEuMjMgNi4wOSAwIDAgLjA1My0uMDUzLjEw\n",
    "Ny0uMTZ6bS05LjgzIDguNDQyYzUuNzcuMzc0IDE0LjU4Ny0uMjE0IDE0LjgtMi45NCAwIDAtLjQy\n",
    "NyAxLjA3LTQuNzU1IDEuODctNC45MTYuOTA4LTExLjAwNy44LTE0LjU4Ny4yMTQgMCAwIC43NDgu\n",
    "NjQgNC41NDIuODU1eiIgZmlsbD0iIzRlNzg5NiIvPjxwYXRoIGQ9Ik0xOC45OTYuMDAxczMuMzEz\n",
    "IDMuMzY2LTMuMTUyIDguNDQyYy01LjE4MyA0LjExNC0xLjE3NSA2LjQ2NSAwIDkuMTM3LTMuMDQ2\n",
    "LTIuNzI1LTUuMjM2LTUuMTMtMy43NC03LjM3M0MxNC4yOTQgNi44OTMgMjAuMzMyIDUuMyAxOC45\n",
    "OTYuMDAxem0tMS43IDE1LjMzNWMxLjU1IDEuNzYzLS40MjcgMy4zNjYtLjQyNyAzLjM2NnMzLjk1\n",
    "NC0yLjAzIDIuMTM3LTQuNTQyYy0xLjY1Ni0yLjQwNC0yLjk0LTMuNTggNC4wMDctNy41ODcgMCAw\n",
    "LTEwLjk1MyAyLjcyNS01LjcxNyA4Ljc2M3oiIGZpbGw9IiNmNTgyMTkiLz48L3N2Zz4=\n",
    "\"\n",
    "     alt=\"Java Logo\" style=\"display:block;margin:auto;width:5%\"/>\n",
    "<br>\n",
    "\n",
    "<div style=\"text-align:center; font-size:200%;\">\n",
    " <b>Test-Doubles</b>\n",
    "</div>\n",
    "<br/>\n",
    "<div style=\"text-align:center; font-size:120%;\">Dr. Matthias Hölzl</div>\n",
    "<br/>\n",
    "<div style=\"text-align:center;\">Coding-Akademie München</div>\n",
    "<br/>"
   ]
  },
  {
   "cell_type": "markdown",
   "id": "d5f194736e9b8ff4",
   "metadata": {
    "lang": "de",
    "slideshow": {
     "slide_type": "subslide"
    },
    "tags": [
     "subslide"
    ]
   },
   "source": [
    "\n",
    "## Test Doubles\n",
    "\n",
    "- Test Double: Vereinfachte Version einer Abhängigkeit im System\n",
    "  - z.B. Ersetzen einer Datenbankabfrage durch einen fixen Wert\n",
    "- Test Doubles sind wichtig zum Vereinfachen von Tests\n",
    "- Sie benötigen typischerweise ein Interface, das sie implementieren\n",
    "- Aber: zu viele oder komplexe Test Doubles machen Tests unübersichtlich\n",
    "  - Was wird von einem Test eigentlich getestet?"
   ]
  },
  {
   "cell_type": "markdown",
   "id": "8ce9a91d894b8af2",
   "metadata": {
    "lang": "de",
    "slideshow": {
     "slide_type": "subslide"
    },
    "tags": [
     "subslide"
    ]
   },
   "source": [
    "\n",
    "## Arten von Test Doubles\n",
    "\n",
    "- Ausgehende Abhängigkeiten (\"Mocks\")\n",
    "  - Mocks\n",
    "  - Spies\n",
    "- Eingehende Abhängigkeiten (\"Stubs\")\n",
    "  - Dummies\n",
    "  - Stubs\n",
    "  - Fakes"
   ]
  },
  {
   "cell_type": "markdown",
   "id": "34b081b21ceb8667",
   "metadata": {
    "lang": "de",
    "slideshow": {
     "slide_type": "subslide"
    },
    "tags": [
     "subslide"
    ]
   },
   "source": [
    "\n",
    "## Dummy\n",
    "\n",
    "- Objekt, das nur als Platzhalter dient\n",
    "- Wird übergeben, aber nicht verwendet\n",
    "- In Java manchmal `null`\n",
    "- Auch für ausgehende Abhängigkeiten"
   ]
  },
  {
   "cell_type": "markdown",
   "id": "8c368fe353d5215d",
   "metadata": {
    "lang": "de",
    "slideshow": {
     "slide_type": "subslide"
    },
    "tags": [
     "subslide"
    ]
   },
   "source": [
    "\n",
    "## Stub\n",
    "\n",
    "- Objekt, das eine minimale Implementierung einer Abhängigkeit bereitstellt\n",
    "- Gibt typischerweise immer den gleichen Wert zurück\n",
    "- Wird verwendet um\n",
    " - komplexe Abhängigkeiten zu ersetzen\n",
    " - Tests deterministisch zu machen"
   ]
  },
  {
   "cell_type": "markdown",
   "id": "8377a04e228048ac",
   "metadata": {
    "lang": "de",
    "slideshow": {
     "slide_type": "subslide"
    },
    "tags": [
     "subslide"
    ]
   },
   "source": [
    "\n",
    "## Fake\n",
    "\n",
    "- Objekt, das eine einfachere Implementierung einer Abhängigkeit bereitstellt\n",
    "- Kann z.B. eine In-Memory-Datenbank sein\n",
    "- Wird verwendet um\n",
    "  - Tests zu beschleunigen\n",
    "  - Konfiguration von Tests zu vereinfachen"
   ]
  },
  {
   "cell_type": "markdown",
   "id": "0b683ec83c76569c",
   "metadata": {
    "lang": "de",
    "slideshow": {
     "slide_type": "subslide"
    },
    "tags": [
     "subslide"
    ]
   },
   "source": [
    "\n",
    "## Spy\n",
    "\n",
    "- Objekt, das Informationen über die Interaktion mit ihm speichert\n",
    "- Wird verwendet um\n",
    "  - zu überprüfen, ob eine Abhängigkeit korrekt verwendet wird"
   ]
  },
  {
   "cell_type": "markdown",
   "id": "e9ec6b5fe0648bcd",
   "metadata": {
    "lang": "de",
    "slideshow": {
     "slide_type": "subslide"
    },
    "tags": [
     "subslide"
    ]
   },
   "source": [
    "\n",
    "## Mock\n",
    "\n",
    "- Objekt, das Information über die erwartete Interaktion speichert\n",
    "- Typischerweise deklarativ konfigurierbar\n",
    "- Automatisierte Implementierung von Spies\n",
    "- Wird verwendet um\n",
    "  - zu überprüfen, ob eine Abhängigkeit korrekt verwendet wird"
   ]
  },
  {
   "cell_type": "code",
   "execution_count": null,
   "id": "76b12d15da130833",
   "metadata": {
    "slideshow": {
     "slide_type": "subslide"
    },
    "tags": [
     "subslide",
     "keep"
    ]
   },
   "outputs": [],
   "source": [
    "interface DataSource {\n",
    "    public int getValue();\n",
    "}"
   ]
  },
  {
   "cell_type": "code",
   "execution_count": null,
   "id": "c24e06f136be95e6",
   "metadata": {
    "tags": [
     "keep"
    ]
   },
   "outputs": [],
   "source": [
    "interface DataSink {\n",
    "    public void setValue(int value);\n",
    "}"
   ]
  },
  {
   "cell_type": "code",
   "execution_count": null,
   "id": "c9fe92be2dee64b4",
   "metadata": {
    "slideshow": {
     "slide_type": "subslide"
    },
    "tags": [
     "subslide",
     "keep"
    ]
   },
   "outputs": [],
   "source": [
    "class Processor {\n",
    "    DataSource source;\n",
    "    DataSink sink;\n",
    "\n",
    "    public Processor(DataSource source, DataSink sink) {\n",
    "        this.source = source;\n",
    "        this.sink = sink;\n",
    "    }\n",
    "\n",
    "    public void process() {\n",
    "        int value = source.getValue();\n",
    "        sink.setValue(value);\n",
    "    }\n",
    "}"
   ]
  },
  {
   "cell_type": "code",
   "execution_count": null,
   "id": "a1f1ebbdd7056348",
   "metadata": {
    "slideshow": {
     "slide_type": "subslide"
    },
    "tags": [
     "subslide",
     "keep"
    ]
   },
   "outputs": [],
   "source": [
    "class DataSourceStub implements DataSource {\n",
    "    public int getValue() { return 42; }\n",
    "}"
   ]
  },
  {
   "cell_type": "code",
   "execution_count": null,
   "id": "982bf200e1aba008",
   "metadata": {
    "tags": [
     "keep"
    ]
   },
   "outputs": [],
   "source": [
    "public class DataSinkSpy implements DataSink\n",
    "{\n",
    "    public List<Integer> values = new ArrayList<>();\n",
    "\n",
    "    public void setValue(int value) {\n",
    "        values.add(value);\n",
    "    }\n",
    "}"
   ]
  },
  {
   "cell_type": "code",
   "execution_count": null,
   "id": "8998705718c89cae",
   "metadata": {
    "slideshow": {
     "slide_type": "subslide"
    },
    "tags": [
     "subslide",
     "keep"
    ]
   },
   "outputs": [],
   "source": [
    "void check(boolean condition) {\n",
    "    if (!condition) {\n",
    "        System.out.println(\"Test failed!\");\n",
    "    } else {\n",
    "        System.out.println(\"Success!\");\n",
    "    }\n",
    "}"
   ]
  },
  {
   "cell_type": "code",
   "execution_count": null,
   "id": "8a689d57ab052cfb",
   "metadata": {
    "slideshow": {
     "slide_type": "subslide"
    },
    "tags": [
     "subslide",
     "keep"
    ]
   },
   "outputs": [],
   "source": [
    "void testProcessor() {\n",
    "    DataSourceStub source = new DataSourceStub();\n",
    "    DataSinkSpy sink = new DataSinkSpy();\n",
    "    Processor processor = new Processor(source, sink);\n",
    "\n",
    "    processor.process();\n",
    "\n",
    "    check(sink.values.size() == 1);\n",
    "    check(sink.values.get(0) == 42);\n",
    "}"
   ]
  },
  {
   "cell_type": "code",
   "execution_count": null,
   "id": "9bdd9f68e0c02c22",
   "metadata": {},
   "outputs": [],
   "source": [
    "testProcessor();"
   ]
  },
  {
   "cell_type": "markdown",
   "id": "605e07a6925357cd",
   "metadata": {
    "lang": "de",
    "slideshow": {
     "slide_type": "subslide"
    },
    "tags": [
     "subslide"
    ]
   },
   "source": [
    "\n",
    "## Typischer Einsatz von Test Doubles\n",
    "\n",
    "- Zugriff auf Datenbank, Dateisystem\n",
    "- Zeit, Zufallswerte\n",
    "- Nichtdeterminismus\n",
    "- Verborgener Zustand"
   ]
  },
  {
   "cell_type": "markdown",
   "id": "a854c2673b750351",
   "metadata": {
    "lang": "de",
    "slideshow": {
     "slide_type": "subslide"
    },
    "tags": [
     "subslide"
    ]
   },
   "source": [
    "\n",
    "## Workshop: Test Doubles\n",
    "\n",
    "Wir haben die folgenden Interfaces, die von der Funktion `test_me()`\n",
    "verwendet werden:"
   ]
  },
  {
   "cell_type": "code",
   "execution_count": null,
   "id": "80dc34eb96311d28",
   "metadata": {
    "slideshow": {
     "slide_type": "subslide"
    },
    "tags": [
     "subslide",
     "keep"
    ]
   },
   "outputs": [],
   "source": [
    "public interface IService1\n",
    "{\n",
    "    int getValue();\n",
    "}"
   ]
  },
  {
   "cell_type": "code",
   "execution_count": null,
   "id": "9dadbcefdcaec085",
   "metadata": {
    "tags": [
     "keep"
    ]
   },
   "outputs": [],
   "source": [
    "public interface IService2\n",
    "{\n",
    "    void setValue(int value);\n",
    "}"
   ]
  },
  {
   "cell_type": "code",
   "execution_count": null,
   "id": "5376d70e76367df5",
   "metadata": {
    "slideshow": {
     "slide_type": "subslide"
    },
    "tags": [
     "keep",
     "subslide"
    ]
   },
   "outputs": [],
   "source": [
    "public void TestMe(int i, int j, IService1 service1, IService2 service2)\n",
    "{\n",
    "    int value = 0;\n",
    "    if (i > 0) {\n",
    "        value = service1.getValue();\n",
    "    }\n",
    "    if (j > 0) {\n",
    "        service2.setValue(value);\n",
    "    }\n",
    "}"
   ]
  },
  {
   "cell_type": "markdown",
   "id": "e4982caddbe0c6e6",
   "metadata": {
    "lang": "de",
    "slideshow": {
     "slide_type": "subslide"
    },
    "tags": [
     "subslide"
    ]
   },
   "source": [
    "\n",
    "Welche Arten von Test-Doubles brauchen Sie um die Funktion `test_me()` für\n",
    "die angegebenen Werte von `i` und `j` zu testen?\n",
    "\n",
    "| i | j | Service1 | Service2 |\n",
    "|---|---|----------|----------|\n",
    "| 0 | 0 |          |          |\n",
    "| 0 | 1 |          |          |\n",
    "| 1 | 0 |          |          |\n",
    "| 1 | 1 |          |          |"
   ]
  },
  {
   "cell_type": "markdown",
   "id": "fc0dea94e617995a",
   "metadata": {
    "lang": "de",
    "slideshow": {
     "slide_type": "subslide"
    },
    "tags": [
     "subslide",
     "alt"
    ]
   },
   "source": [
    "\n",
    "| i | j | Service1 | Service2 |\n",
    "|---|---|----------|----------|\n",
    "| 0 | 0 | Dummy    | Dummy    |\n",
    "| 0 | 1 | Dummy    | Spy/Mock |\n",
    "| 1 | 0 | Stub     | Dummy    |\n",
    "| 1 | 1 | Stub     | Spy/Mock |"
   ]
  },
  {
   "cell_type": "markdown",
   "id": "d6cb4e63664783a0",
   "metadata": {
    "lang": "de",
    "slideshow": {
     "slide_type": "subslide"
    },
    "tags": [
     "subslide"
    ]
   },
   "source": [
    "\n",
    "Implementieren Sie die entsprechenden Doubles und schreiben Sie die Tests"
   ]
  },
  {
   "cell_type": "code",
   "execution_count": null,
   "id": "e5c08c9996f3d236",
   "metadata": {
    "tags": [
     "alt"
    ]
   },
   "outputs": [],
   "source": [
    "public class Service1Stub implements IService1\n",
    "{\n",
    "    public int getValue() { return 42; }\n",
    "}"
   ]
  },
  {
   "cell_type": "code",
   "execution_count": null,
   "id": "d23a072373a1d231",
   "metadata": {
    "tags": [
     "alt"
    ]
   },
   "outputs": [],
   "source": [
    "public class Service2Spy implements IService2\n",
    "{\n",
    "    public List<Integer> Values = new ArrayList<>();\n",
    "\n",
    "    public void setValue(int value) { Values.add(value); }\n",
    "}"
   ]
  },
  {
   "cell_type": "code",
   "execution_count": null,
   "id": "2ae4b2e0700e0fa9",
   "metadata": {
    "tags": [
     "alt"
    ]
   },
   "outputs": [],
   "source": [
    "public void TestTestMe_0_0()\n",
    "{\n",
    "    TestMe(0, 0, null, null);\n",
    "}"
   ]
  },
  {
   "cell_type": "code",
   "execution_count": null,
   "id": "6b02ed7352d4fc80",
   "metadata": {
    "tags": [
     "alt"
    ]
   },
   "outputs": [],
   "source": [
    "public void TestTestMe_0_1()\n",
    "{\n",
    "    Service2Spy service2 = new Service2Spy();\n",
    "    TestMe(0, 1, null, service2);\n",
    "    check(service2.Values.size() == 1);\n",
    "    check(service2.Values.get(0) == 0);\n",
    "}"
   ]
  },
  {
   "cell_type": "code",
   "execution_count": null,
   "id": "5fd4d41a1a702f41",
   "metadata": {
    "tags": [
     "alt"
    ]
   },
   "outputs": [],
   "source": [
    "public void TestTestMe_1_0()\n",
    "{\n",
    "    Service1Stub service1 = new Service1Stub();\n",
    "    TestMe(1, 0, service1, null);\n",
    "}"
   ]
  },
  {
   "cell_type": "code",
   "execution_count": null,
   "id": "94fa3228bb28eca9",
   "metadata": {
    "tags": [
     "alt"
    ]
   },
   "outputs": [],
   "source": [
    "public void TestTestMe_1_1()\n",
    "{\n",
    "    Service1Stub service1 = new Service1Stub();\n",
    "    Service2Spy service2 = new Service2Spy();\n",
    "    TestMe(1, 1, service1, service2);\n",
    "    check(service2.Values.size() == 1);\n",
    "    check(service2.Values.get(0) == 42);\n",
    "}"
   ]
  }
 ],
 "metadata": {
  "jupytext": {
   "cell_metadata_filter": "lang,tags,-all",
   "encoding": "// -*- coding: utf-8 -*-",
   "main_language": "java",
   "notebook_metadata_filter": "-all"
  },
  "kernelspec": {
   "display_name": "Java",
   "language": "java",
   "name": "java"
  },
  "language_info": {
   "codemirror_mode": "java",
   "file_extension": ".java",
   "mimetype": "text/java",
   "name": "Java",
   "pygments_lexer": "java",
   "version": ""
  }
 },
 "nbformat": 4,
 "nbformat_minor": 5
}
